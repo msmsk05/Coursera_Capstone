#!/usr/bin/env python
# coding: utf-8

# This notebook will be mainly used for the capstone project.

# In[7]:


import pandas as pd
import numpy  as np


# In[8]:


print('Hello Capstone Project Course!')


# In[ ]:




